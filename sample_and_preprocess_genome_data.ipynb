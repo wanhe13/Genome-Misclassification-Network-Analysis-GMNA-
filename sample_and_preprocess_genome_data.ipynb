{
 "cells": [
  {
   "cell_type": "markdown",
   "metadata": {},
   "source": [
    "# We substitute all non ACTG with * and - is for padding \n",
    "\n",
    "# filter: only regions with genome counts>=threshold will be considered\n",
    "\n",
    "# Sample: sample n_sample from each region\n",
    "\n",
    "# Preprocessing: filter -> Sample -> padded -> encode -> leave one out\n"
   ]
  },
  {
   "cell_type": "code",
   "execution_count": 1,
   "metadata": {},
   "outputs": [
    {
     "name": "stderr",
     "output_type": "stream",
     "text": [
      "2024-02-19 13:01:32.111717: I tensorflow/core/platform/cpu_feature_guard.cc:193] This TensorFlow binary is optimized with oneAPI Deep Neural Network Library (oneDNN) to use the following CPU instructions in performance-critical operations:  AVX2 FMA\n",
      "To enable them in other operations, rebuild TensorFlow with the appropriate compiler flags.\n",
      "2024-02-19 13:01:32.677689: W tensorflow/compiler/xla/stream_executor/platform/default/dso_loader.cc:64] Could not load dynamic library 'libcudart.so.11.0'; dlerror: libcudart.so.11.0: cannot open shared object file: No such file or directory; LD_LIBRARY_PATH: /shared/centos7/anaconda3/2022.05/lib:/shared/centos7/nodejs/14.15.4/lib\n",
      "2024-02-19 13:01:32.677727: I tensorflow/compiler/xla/stream_executor/cuda/cudart_stub.cc:29] Ignore above cudart dlerror if you do not have a GPU set up on your machine.\n",
      "2024-02-19 13:01:37.158225: W tensorflow/compiler/xla/stream_executor/platform/default/dso_loader.cc:64] Could not load dynamic library 'libnvinfer.so.7'; dlerror: libnvinfer.so.7: cannot open shared object file: No such file or directory; LD_LIBRARY_PATH: /shared/centos7/anaconda3/2022.05/lib:/shared/centos7/nodejs/14.15.4/lib\n",
      "2024-02-19 13:01:37.161853: W tensorflow/compiler/xla/stream_executor/platform/default/dso_loader.cc:64] Could not load dynamic library 'libnvinfer_plugin.so.7'; dlerror: libnvinfer_plugin.so.7: cannot open shared object file: No such file or directory; LD_LIBRARY_PATH: /shared/centos7/anaconda3/2022.05/lib:/shared/centos7/nodejs/14.15.4/lib\n",
      "2024-02-19 13:01:37.161896: W tensorflow/compiler/tf2tensorrt/utils/py_utils.cc:38] TF-TRT Warning: Cannot dlopen some TensorRT libraries. If you would like to use Nvidia GPU with TensorRT, please make sure the missing libraries mentioned above are installed properly.\n",
      "/home/he.wan1/.conda/envs/py38/lib/python3.8/site-packages/tqdm/auto.py:21: TqdmWarning: IProgress not found. Please update jupyter and ipywidgets. See https://ipywidgets.readthedocs.io/en/stable/user_install.html\n",
      "  from .autonotebook import tqdm as notebook_tqdm\n"
     ]
    }
   ],
   "source": [
    "import matplotlib.pyplot as plt\n",
    "import pandas as pd\n",
    "import numpy as np\n",
    "import re\n",
    "from sklearn.preprocessing import LabelEncoder, OneHotEncoder\n",
    "from utility_functions import *\n",
    "from functions import *\n",
    "\n"
   ]
  },
  {
   "cell_type": "code",
   "execution_count": 2,
   "metadata": {},
   "outputs": [
    {
     "name": "stdout",
     "output_type": "stream",
     "text": [
      "GPU is not available.\n",
      "2.2.0+cu121\n",
      "12.1\n",
      "False\n"
     ]
    }
   ],
   "source": [
    "import torch\n",
    "\n",
    "if torch.cuda.is_available():\n",
    "    print(\"GPU is available.\")\n",
    "    print(\"GPU Name:\", torch.cuda.get_device_name(0))\n",
    "    print(\"GPU Memory Total (GB):\", torch.cuda.get_device_properties(0).total_memory / 1e9)\n",
    "    print(\"GPU Memory Allocated (GB):\", torch.cuda.memory_allocated(0) / 1e9)\n",
    "    print(\"GPU Memory Cached (GB):\", torch.cuda.memory_reserved(0) / 1e9)\n",
    "else:\n",
    "    print(\"GPU is not available.\")\n",
    "\n",
    "print(torch.__version__)\n",
    "print(torch.version.cuda)\n",
    "print(torch.cuda.is_available())\n"
   ]
  },
  {
   "cell_type": "code",
   "execution_count": 3,
   "metadata": {},
   "outputs": [
    {
     "name": "stdout",
     "output_type": "stream",
     "text": [
      "tensor([[0.1252, 0.9456, 0.5686],\n",
      "        [0.7642, 0.2864, 0.1199],\n",
      "        [0.8550, 0.5942, 0.3560],\n",
      "        [0.7684, 0.7136, 0.3894],\n",
      "        [0.1497, 0.0959, 0.2232]])\n"
     ]
    }
   ],
   "source": [
    "x = torch.rand(5, 3)\n",
    "print(x)"
   ]
  },
  {
   "cell_type": "code",
   "execution_count": 4,
   "metadata": {},
   "outputs": [],
   "source": [
    "def filter_Nbase(row):\n",
    "    if len(set(row['sequence'])) <=10:\n",
    "        return False\n",
    "    else:\n",
    "        return True\n",
    "\n"
   ]
  },
  {
   "cell_type": "code",
   "execution_count": 5,
   "metadata": {},
   "outputs": [],
   "source": [
    "df_date=pd.read_csv('data/df_date.csv')  \n",
    "\n"
   ]
  },
  {
   "cell_type": "code",
   "execution_count": 6,
   "metadata": {},
   "outputs": [],
   "source": [
    "def replace_byN(sequence):\n",
    "    # replace all non-ATCG by N\n",
    "    return re.sub('[^ATCG]', '*', sequence) \n",
    "\n",
    "    "
   ]
  },
  {
   "cell_type": "code",
   "execution_count": 7,
   "metadata": {},
   "outputs": [],
   "source": [
    "df_date_replace_nonATCG_byN=df_date"
   ]
  },
  {
   "cell_type": "code",
   "execution_count": 8,
   "metadata": {},
   "outputs": [],
   "source": [
    "df_date_replace_nonATCG_byN['sequence']=df_date_replace_nonATCG_byN['sequence'].apply(replace_byN)"
   ]
  },
  {
   "cell_type": "code",
   "execution_count": 9,
   "metadata": {},
   "outputs": [
    {
     "data": {
      "text/html": [
       "<div>\n",
       "<style scoped>\n",
       "    .dataframe tbody tr th:only-of-type {\n",
       "        vertical-align: middle;\n",
       "    }\n",
       "\n",
       "    .dataframe tbody tr th {\n",
       "        vertical-align: top;\n",
       "    }\n",
       "\n",
       "    .dataframe thead th {\n",
       "        text-align: right;\n",
       "    }\n",
       "</style>\n",
       "<table border=\"1\" class=\"dataframe\">\n",
       "  <thead>\n",
       "    <tr style=\"text-align: right;\">\n",
       "      <th></th>\n",
       "      <th>sequence</th>\n",
       "      <th>region</th>\n",
       "      <th>strain</th>\n",
       "      <th>year</th>\n",
       "      <th>source</th>\n",
       "      <th>Date</th>\n",
       "      <th>Month</th>\n",
       "      <th>country</th>\n",
       "    </tr>\n",
       "  </thead>\n",
       "  <tbody>\n",
       "    <tr>\n",
       "      <th>0</th>\n",
       "      <td>ATTAAAGGTTTATACCTTCCCAGGTAACAAACCAACCAACTTTCGA...</td>\n",
       "      <td>Italy</td>\n",
       "      <td>LOM-UniMI-1</td>\n",
       "      <td>2020</td>\n",
       "      <td>-</td>\n",
       "      <td>2019-12-05</td>\n",
       "      <td>1</td>\n",
       "      <td>Italy</td>\n",
       "    </tr>\n",
       "    <tr>\n",
       "      <th>1</th>\n",
       "      <td>ATTAAAGGTTTATACCTTCCCAGGTAACAAACCAACCAACTTTCGA...</td>\n",
       "      <td>Wuhan</td>\n",
       "      <td>IPBCAMS-WH-01</td>\n",
       "      <td>2019</td>\n",
       "      <td>-</td>\n",
       "      <td>2019-12-24</td>\n",
       "      <td>1</td>\n",
       "      <td>China</td>\n",
       "    </tr>\n",
       "    <tr>\n",
       "      <th>2</th>\n",
       "      <td>AACAAACCAACCAACTTTCGATCTCTTGTAGATCTGTTCTCTAAAC...</td>\n",
       "      <td>Wuhan</td>\n",
       "      <td>WH01</td>\n",
       "      <td>2019</td>\n",
       "      <td>-</td>\n",
       "      <td>2019-12-26</td>\n",
       "      <td>1</td>\n",
       "      <td>China</td>\n",
       "    </tr>\n",
       "    <tr>\n",
       "      <th>3</th>\n",
       "      <td>ATTAAAGGTTTATACCTTCCCAGGTAACAAACCAACCAACTTTCGA...</td>\n",
       "      <td>Wuhan</td>\n",
       "      <td>IPBCAMS-WH-04</td>\n",
       "      <td>2019</td>\n",
       "      <td>-</td>\n",
       "      <td>2019-12-30</td>\n",
       "      <td>1</td>\n",
       "      <td>China</td>\n",
       "    </tr>\n",
       "    <tr>\n",
       "      <th>4</th>\n",
       "      <td>CCTTCCCAGGTAACAAACCAACCAACTTTCGATCTCTTGTAGATCT...</td>\n",
       "      <td>Wuhan</td>\n",
       "      <td>HBCDC-HB-04</td>\n",
       "      <td>2020</td>\n",
       "      <td>-</td>\n",
       "      <td>2019-12-30</td>\n",
       "      <td>1</td>\n",
       "      <td>China</td>\n",
       "    </tr>\n",
       "    <tr>\n",
       "      <th>...</th>\n",
       "      <td>...</td>\n",
       "      <td>...</td>\n",
       "      <td>...</td>\n",
       "      <td>...</td>\n",
       "      <td>...</td>\n",
       "      <td>...</td>\n",
       "      <td>...</td>\n",
       "      <td>...</td>\n",
       "    </tr>\n",
       "    <tr>\n",
       "      <th>551225</th>\n",
       "      <td>ACTTTCGATCTCTTGTAGATCTGTTCTCTAAACGAACTTTAAAATC...</td>\n",
       "      <td>DRC</td>\n",
       "      <td>10057</td>\n",
       "      <td>2020</td>\n",
       "      <td>-</td>\n",
       "      <td>2021-05-14</td>\n",
       "      <td>18</td>\n",
       "      <td>Dominican Republic</td>\n",
       "    </tr>\n",
       "    <tr>\n",
       "      <th>551226</th>\n",
       "      <td>AACTTTCGATCTCTTGTAGATCTGTTCTCTAAACGAACTTTAAAAT...</td>\n",
       "      <td>DRC</td>\n",
       "      <td>10364</td>\n",
       "      <td>2020</td>\n",
       "      <td>-</td>\n",
       "      <td>2021-05-17</td>\n",
       "      <td>18</td>\n",
       "      <td>Dominican Republic</td>\n",
       "    </tr>\n",
       "    <tr>\n",
       "      <th>551227</th>\n",
       "      <td>CTTTCGATCTCTTGTAGATCTGTTCTCTAAACGAACTTTAAAATCT...</td>\n",
       "      <td>DRC</td>\n",
       "      <td>10733</td>\n",
       "      <td>2020</td>\n",
       "      <td>-</td>\n",
       "      <td>2021-05-17</td>\n",
       "      <td>18</td>\n",
       "      <td>Dominican Republic</td>\n",
       "    </tr>\n",
       "    <tr>\n",
       "      <th>551228</th>\n",
       "      <td>CTTTCGATCTCTTGTAGATCTGTTCTCTAAACGAACTTTAAAATCT...</td>\n",
       "      <td>DRC</td>\n",
       "      <td>10902</td>\n",
       "      <td>2020</td>\n",
       "      <td>-</td>\n",
       "      <td>2021-05-18</td>\n",
       "      <td>18</td>\n",
       "      <td>Dominican Republic</td>\n",
       "    </tr>\n",
       "    <tr>\n",
       "      <th>551229</th>\n",
       "      <td>AGATCTGTTCTCTAAACGAACTTTAAAATCTGTGTGGCTGTCACTC...</td>\n",
       "      <td>Singapore</td>\n",
       "      <td>784</td>\n",
       "      <td>2020</td>\n",
       "      <td>-</td>\n",
       "      <td>2021-05-21</td>\n",
       "      <td>18</td>\n",
       "      <td>Singapore</td>\n",
       "    </tr>\n",
       "  </tbody>\n",
       "</table>\n",
       "<p>551230 rows × 8 columns</p>\n",
       "</div>"
      ],
      "text/plain": [
       "                                                 sequence     region  \\\n",
       "0       ATTAAAGGTTTATACCTTCCCAGGTAACAAACCAACCAACTTTCGA...      Italy   \n",
       "1       ATTAAAGGTTTATACCTTCCCAGGTAACAAACCAACCAACTTTCGA...      Wuhan   \n",
       "2       AACAAACCAACCAACTTTCGATCTCTTGTAGATCTGTTCTCTAAAC...      Wuhan   \n",
       "3       ATTAAAGGTTTATACCTTCCCAGGTAACAAACCAACCAACTTTCGA...      Wuhan   \n",
       "4       CCTTCCCAGGTAACAAACCAACCAACTTTCGATCTCTTGTAGATCT...      Wuhan   \n",
       "...                                                   ...        ...   \n",
       "551225  ACTTTCGATCTCTTGTAGATCTGTTCTCTAAACGAACTTTAAAATC...        DRC   \n",
       "551226  AACTTTCGATCTCTTGTAGATCTGTTCTCTAAACGAACTTTAAAAT...        DRC   \n",
       "551227  CTTTCGATCTCTTGTAGATCTGTTCTCTAAACGAACTTTAAAATCT...        DRC   \n",
       "551228  CTTTCGATCTCTTGTAGATCTGTTCTCTAAACGAACTTTAAAATCT...        DRC   \n",
       "551229  AGATCTGTTCTCTAAACGAACTTTAAAATCTGTGTGGCTGTCACTC...  Singapore   \n",
       "\n",
       "               strain  year source        Date  Month             country  \n",
       "0         LOM-UniMI-1  2020      -  2019-12-05      1               Italy  \n",
       "1       IPBCAMS-WH-01  2019      -  2019-12-24      1               China  \n",
       "2                WH01  2019      -  2019-12-26      1               China  \n",
       "3       IPBCAMS-WH-04  2019      -  2019-12-30      1               China  \n",
       "4         HBCDC-HB-04  2020      -  2019-12-30      1               China  \n",
       "...               ...   ...    ...         ...    ...                 ...  \n",
       "551225          10057  2020      -  2021-05-14     18  Dominican Republic  \n",
       "551226          10364  2020      -  2021-05-17     18  Dominican Republic  \n",
       "551227          10733  2020      -  2021-05-17     18  Dominican Republic  \n",
       "551228          10902  2020      -  2021-05-18     18  Dominican Republic  \n",
       "551229            784  2020      -  2021-05-21     18           Singapore  \n",
       "\n",
       "[551230 rows x 8 columns]"
      ]
     },
     "execution_count": 9,
     "metadata": {},
     "output_type": "execute_result"
    }
   ],
   "source": [
    "df_date_replace_nonATCG_byN"
   ]
  },
  {
   "cell_type": "code",
   "execution_count": 10,
   "metadata": {},
   "outputs": [
    {
     "data": {
      "text/plain": [
       "{'*', 'A', 'C', 'G', 'T'}"
      ]
     },
     "execution_count": 10,
     "metadata": {},
     "output_type": "execute_result"
    }
   ],
   "source": [
    "set(df_date_replace_nonATCG_byN['sequence'][100])"
   ]
  },
  {
   "cell_type": "code",
   "execution_count": 11,
   "metadata": {},
   "outputs": [
    {
     "name": "stdout",
     "output_type": "stream",
     "text": [
      "33\n"
     ]
    }
   ],
   "source": [
    "# evenly select sample_size number of genome sequences from each region\n",
    "threshold=1000  \n",
    "sample_size=1000 \n",
    "\n",
    "df_filtered=filter_df(df_date_replace_nonATCG_byN,'region', threshold)\n",
    "df_even_=df_filtered.groupby(\"region\").apply (lambda x: x.sample(n=sample_size,random_state=1))\n",
    "df_even=df_even_.reset_index(drop=True)\n",
    "print(len(list(set(df_even['region']))))"
   ]
  },
  {
   "cell_type": "code",
   "execution_count": 12,
   "metadata": {},
   "outputs": [],
   "source": [
    "def padding(df,padded_len=None):\n",
    "    \n",
    "    df=df.copy()\n",
    "\n",
    "    #Getting all the base elements\n",
    "    sequences = df['sequence'].tolist()\n",
    "    bases = set(x for sublist in sequences for x in sublist)\n",
    "\n",
    "    #find the max len of the sequences\n",
    "    max_len=np.max([len(i) for i in df['sequence']])  #initialisation\n",
    "\n",
    "    if padded_len==None:\n",
    "        padded_len=max_len\n",
    "\n",
    "    #Padd the sequences with '-' to ensure the same length\n",
    "    df['sequence']=df['sequence'].str.pad(width=padded_len, side='right', fillchar='-')\n",
    "    df['sequence'] = df['sequence']\n",
    "    bases=bases.copy()\n",
    "    bases.add('-')\n",
    "    return df,bases   \n"
   ]
  },
  {
   "cell_type": "code",
   "execution_count": null,
   "metadata": {},
   "outputs": [],
   "source": []
  },
  {
   "cell_type": "code",
   "execution_count": null,
   "metadata": {},
   "outputs": [],
   "source": []
  },
  {
   "cell_type": "code",
   "execution_count": null,
   "metadata": {},
   "outputs": [],
   "source": []
  },
  {
   "cell_type": "code",
   "execution_count": 13,
   "metadata": {},
   "outputs": [],
   "source": [
    "df_padded,bases=padding(df_even)"
   ]
  },
  {
   "cell_type": "code",
   "execution_count": 14,
   "metadata": {},
   "outputs": [
    {
     "data": {
      "text/plain": [
       "{'*', '-', 'A', 'C', 'G', 'T'}"
      ]
     },
     "execution_count": 14,
     "metadata": {},
     "output_type": "execute_result"
    }
   ],
   "source": [
    "bases"
   ]
  },
  {
   "cell_type": "code",
   "execution_count": 19,
   "metadata": {},
   "outputs": [
    {
     "data": {
      "text/plain": [
       "[]"
      ]
     },
     "execution_count": 19,
     "metadata": {},
     "output_type": "execute_result"
    }
   ],
   "source": [
    "[(i,len(j)) for i,j in enumerate(list(df_padded['sequence'])) if len(j)!=len(list(df_padded['sequence'][0]))]"
   ]
  },
  {
   "cell_type": "code",
   "execution_count": 20,
   "metadata": {},
   "outputs": [
    {
     "data": {
      "text/html": [
       "<div>\n",
       "<style scoped>\n",
       "    .dataframe tbody tr th:only-of-type {\n",
       "        vertical-align: middle;\n",
       "    }\n",
       "\n",
       "    .dataframe tbody tr th {\n",
       "        vertical-align: top;\n",
       "    }\n",
       "\n",
       "    .dataframe thead th {\n",
       "        text-align: right;\n",
       "    }\n",
       "</style>\n",
       "<table border=\"1\" class=\"dataframe\">\n",
       "  <thead>\n",
       "    <tr style=\"text-align: right;\">\n",
       "      <th></th>\n",
       "      <th>sequence</th>\n",
       "      <th>region</th>\n",
       "      <th>strain</th>\n",
       "      <th>year</th>\n",
       "      <th>source</th>\n",
       "      <th>Date</th>\n",
       "      <th>Month</th>\n",
       "      <th>country</th>\n",
       "    </tr>\n",
       "  </thead>\n",
       "  <tbody>\n",
       "    <tr>\n",
       "      <th>0</th>\n",
       "      <td>ATGGAGAGCCTTGTCCCTGGTTTCAACGAGAAAACACACGTCCAAC...</td>\n",
       "      <td>Australia</td>\n",
       "      <td>NSW62</td>\n",
       "      <td>2020</td>\n",
       "      <td>-</td>\n",
       "      <td>2020-03-17</td>\n",
       "      <td>4</td>\n",
       "      <td>Australia</td>\n",
       "    </tr>\n",
       "    <tr>\n",
       "      <th>1</th>\n",
       "      <td>CTTTCGATCTCTTGTAGATCTGTTCTCTAAACGAACTTTAAAATCT...</td>\n",
       "      <td>Australia</td>\n",
       "      <td>VIC2179</td>\n",
       "      <td>2020</td>\n",
       "      <td>-</td>\n",
       "      <td>2020-06-26</td>\n",
       "      <td>7</td>\n",
       "      <td>Australia</td>\n",
       "    </tr>\n",
       "    <tr>\n",
       "      <th>2</th>\n",
       "      <td>ACTTTCGATCTCTTGTAGATCTGTTCTCTAAACGAACTTTAAAATC...</td>\n",
       "      <td>Australia</td>\n",
       "      <td>VIC14076</td>\n",
       "      <td>2020</td>\n",
       "      <td>-</td>\n",
       "      <td>2020-09-17</td>\n",
       "      <td>10</td>\n",
       "      <td>Australia</td>\n",
       "    </tr>\n",
       "    <tr>\n",
       "      <th>3</th>\n",
       "      <td>CTTTAAAATCTGTGTGGCTGTCACTCGGCTGCATGCTTAGTGCACT...</td>\n",
       "      <td>Australia</td>\n",
       "      <td>VIC17608</td>\n",
       "      <td>2020</td>\n",
       "      <td>-</td>\n",
       "      <td>2020-08-22</td>\n",
       "      <td>9</td>\n",
       "      <td>Australia</td>\n",
       "    </tr>\n",
       "    <tr>\n",
       "      <th>4</th>\n",
       "      <td>ACTTTCGATCTCTTGTAGATCTGTTCTCTAAACGAACTTTAAAATC...</td>\n",
       "      <td>Australia</td>\n",
       "      <td>VIC1557</td>\n",
       "      <td>2020</td>\n",
       "      <td>-</td>\n",
       "      <td>2020-05-02</td>\n",
       "      <td>6</td>\n",
       "      <td>Australia</td>\n",
       "    </tr>\n",
       "    <tr>\n",
       "      <th>...</th>\n",
       "      <td>...</td>\n",
       "      <td>...</td>\n",
       "      <td>...</td>\n",
       "      <td>...</td>\n",
       "      <td>...</td>\n",
       "      <td>...</td>\n",
       "      <td>...</td>\n",
       "      <td>...</td>\n",
       "    </tr>\n",
       "    <tr>\n",
       "      <th>32995</th>\n",
       "      <td>ACTTTCGATCTCTTGTAGATCTGTTCTCTAAACGAACTTTAAAATC...</td>\n",
       "      <td>Wales</td>\n",
       "      <td>PHWC-48E419</td>\n",
       "      <td>2020</td>\n",
       "      <td>-</td>\n",
       "      <td>2020-11-12</td>\n",
       "      <td>12</td>\n",
       "      <td>United Kingdom</td>\n",
       "    </tr>\n",
       "    <tr>\n",
       "      <th>32996</th>\n",
       "      <td>ACTTTCGATCTCTTGTAGATCTGTTCTCTAAACGAACTTTAAAATC...</td>\n",
       "      <td>Wales</td>\n",
       "      <td>PHWC-49CC6B</td>\n",
       "      <td>2020</td>\n",
       "      <td>-</td>\n",
       "      <td>2020-12-08</td>\n",
       "      <td>13</td>\n",
       "      <td>United Kingdom</td>\n",
       "    </tr>\n",
       "    <tr>\n",
       "      <th>32997</th>\n",
       "      <td>AGATCTGTTCTCTAAACGAACTTTAAAATCTGTGTGGCTGTCACTC...</td>\n",
       "      <td>Wales</td>\n",
       "      <td>ALDP-AA4981</td>\n",
       "      <td>2020</td>\n",
       "      <td>-</td>\n",
       "      <td>2020-10-21</td>\n",
       "      <td>11</td>\n",
       "      <td>United Kingdom</td>\n",
       "    </tr>\n",
       "    <tr>\n",
       "      <th>32998</th>\n",
       "      <td>ACTTTCGATCTCTTGTAGATCTGTTCTCTAAACGAACTTTAAAATC...</td>\n",
       "      <td>Wales</td>\n",
       "      <td>PHWC-24C99</td>\n",
       "      <td>2020</td>\n",
       "      <td>-</td>\n",
       "      <td>2020-03-21</td>\n",
       "      <td>4</td>\n",
       "      <td>United Kingdom</td>\n",
       "    </tr>\n",
       "    <tr>\n",
       "      <th>32999</th>\n",
       "      <td>AGGTTTATACCTTCCCAGGTAACAAACCAACCAACTTTCGATCTCT...</td>\n",
       "      <td>Wales</td>\n",
       "      <td>PHWC-49F925</td>\n",
       "      <td>2020</td>\n",
       "      <td>-</td>\n",
       "      <td>2020-12-09</td>\n",
       "      <td>13</td>\n",
       "      <td>United Kingdom</td>\n",
       "    </tr>\n",
       "  </tbody>\n",
       "</table>\n",
       "<p>33000 rows × 8 columns</p>\n",
       "</div>"
      ],
      "text/plain": [
       "                                                sequence     region  \\\n",
       "0      ATGGAGAGCCTTGTCCCTGGTTTCAACGAGAAAACACACGTCCAAC...  Australia   \n",
       "1      CTTTCGATCTCTTGTAGATCTGTTCTCTAAACGAACTTTAAAATCT...  Australia   \n",
       "2      ACTTTCGATCTCTTGTAGATCTGTTCTCTAAACGAACTTTAAAATC...  Australia   \n",
       "3      CTTTAAAATCTGTGTGGCTGTCACTCGGCTGCATGCTTAGTGCACT...  Australia   \n",
       "4      ACTTTCGATCTCTTGTAGATCTGTTCTCTAAACGAACTTTAAAATC...  Australia   \n",
       "...                                                  ...        ...   \n",
       "32995  ACTTTCGATCTCTTGTAGATCTGTTCTCTAAACGAACTTTAAAATC...      Wales   \n",
       "32996  ACTTTCGATCTCTTGTAGATCTGTTCTCTAAACGAACTTTAAAATC...      Wales   \n",
       "32997  AGATCTGTTCTCTAAACGAACTTTAAAATCTGTGTGGCTGTCACTC...      Wales   \n",
       "32998  ACTTTCGATCTCTTGTAGATCTGTTCTCTAAACGAACTTTAAAATC...      Wales   \n",
       "32999  AGGTTTATACCTTCCCAGGTAACAAACCAACCAACTTTCGATCTCT...      Wales   \n",
       "\n",
       "            strain  year source        Date  Month         country  \n",
       "0            NSW62  2020      -  2020-03-17      4       Australia  \n",
       "1          VIC2179  2020      -  2020-06-26      7       Australia  \n",
       "2         VIC14076  2020      -  2020-09-17     10       Australia  \n",
       "3         VIC17608  2020      -  2020-08-22      9       Australia  \n",
       "4          VIC1557  2020      -  2020-05-02      6       Australia  \n",
       "...            ...   ...    ...         ...    ...             ...  \n",
       "32995  PHWC-48E419  2020      -  2020-11-12     12  United Kingdom  \n",
       "32996  PHWC-49CC6B  2020      -  2020-12-08     13  United Kingdom  \n",
       "32997  ALDP-AA4981  2020      -  2020-10-21     11  United Kingdom  \n",
       "32998   PHWC-24C99  2020      -  2020-03-21      4  United Kingdom  \n",
       "32999  PHWC-49F925  2020      -  2020-12-09     13  United Kingdom  \n",
       "\n",
       "[33000 rows x 8 columns]"
      ]
     },
     "execution_count": 20,
     "metadata": {},
     "output_type": "execute_result"
    }
   ],
   "source": [
    "df_even"
   ]
  },
  {
   "cell_type": "code",
   "execution_count": 20,
   "metadata": {},
   "outputs": [
    {
     "name": "stdout",
     "output_type": "stream",
     "text": [
      "start_month 2020-07\n",
      "end_month 2021-05\n",
      "7\n"
     ]
    }
   ],
   "source": [
    "months=sorted(list(set([i[:7] for i in list(df_date['Date'])])))\n",
    "start,end=7,len(months)-1\n",
    "start_month=months[start]\n",
    "print('start_month',start_month)\n",
    "end_month=months[end]\n",
    "print('end_month',end_month)\n",
    "df_date=df_date[df_date['Month']>=start]\n",
    "print(start)\n"
   ]
  },
  {
   "cell_type": "code",
   "execution_count": 21,
   "metadata": {},
   "outputs": [],
   "source": [
    "df_padded.to_csv(f'data/genomeACTGbases_sample_{threshold}_{sample_size}_{start_month}---{end_month}.csv', index=False)\n"
   ]
  },
  {
   "cell_type": "code",
   "execution_count": 19,
   "metadata": {},
   "outputs": [
    {
     "data": {
      "text/plain": [
       "{'*', '-', 'A', 'C', 'G', 'T'}"
      ]
     },
     "execution_count": 19,
     "metadata": {},
     "output_type": "execute_result"
    }
   ],
   "source": [
    "bases"
   ]
  },
  {
   "cell_type": "code",
   "execution_count": 21,
   "metadata": {},
   "outputs": [
    {
     "name": "stdout",
     "output_type": "stream",
     "text": [
      "152\n",
      "['Greece', 'Guatemala', 'Lebanon', 'Mali', 'Shulan', 'SaintLucia', 'Ireland', 'Lithuania', 'Gibraltar', 'Trinidad', 'Nepal', 'NewZealand', 'Urumqi', 'Bulgaria', 'Beijing', 'Qingdao', 'BritishVirginIslands', 'Japan', 'Sweden', 'NorthernIreland', 'Vietnam', 'FrenchGuiana', 'DRC', 'Bahrain', 'Mongolia', 'Croatia', 'Senegal', 'Congo', 'Italy', 'Georgia', 'Ghana', 'England', 'Chile', 'Mayotte', 'Zimbabwe', 'Fujian', 'CaymanIslands', 'Iran', 'Netherlands', 'Moldova', 'Iraq', 'Hebei', 'Afghanistan', 'Austria', 'Finland', 'Malaysia', 'Curacao', 'Brunei', 'Cambodia', 'Algeria', 'Latvia', 'Shaoxing', 'UnitedArabEmirates', 'BurkinaFaso', 'Tunisia', 'SriLanka', 'Colombia', 'Mozambique', 'Spain', 'Denmark', 'Zambia', 'SouthAfrica', 'Portugal', 'Guadeloupe', 'Poland', 'Canada', 'Guangdong', 'Suriname', 'Scotland', 'Ukraine', 'Taiwan', 'Kashgar', 'Bermuda', 'PapuaNewGuinea', 'StEustatius', 'France', 'India', 'Liaoning', 'Norway', 'DominicanRepublic', 'Singapore', 'Slovenia', 'Wales', 'Crimea', 'USA', 'Aruba', 'Pakistan', 'Kenya', 'Morocco', 'Rwanda', 'NorthMacedonia', 'CostaRica', 'FaroeIslands', 'Nigeria', 'Panama', 'Gambia', 'SouthKorea', 'Hungary', 'Mexico', 'Oman', 'CzechRepublic', 'Kuwait', 'Bolivia', 'ElSalvador', 'Cameroon', 'Palestine', 'Albania', 'Kazakhstan', 'Guinea', 'Belgium', 'EquatorialGuinea', 'Harbin', 'Uganda', 'Philippines', 'Thailand', 'Yunnan', 'Myanmar', 'Andorra', 'Egypt', 'SaudiArabia', 'Peru', 'Ecuador', 'Iceland', 'Switzerland', 'Turkey', 'Brazil', 'Slovakia', 'Bangladesh', 'Serbia', 'HongKong', 'Australia', 'Zhejiang', 'Belarus', 'Estonia', 'Israel', 'Barbados', 'Luxembourg', 'Uruguay', 'Azerbaijan', 'Germany', 'Romania', 'Madagascar', 'Benin', 'Jordan', 'Russia', 'Botswana', 'Jamaica', 'Wuhan', 'Indonesia', 'Argentina', 'Montenegro', 'Malta']\n"
     ]
    }
   ],
   "source": [
    "print(len(list(set(list(df_date['region'])))))\n",
    "print(list(set(list(df_date['region']))))"
   ]
  },
  {
   "cell_type": "code",
   "execution_count": 22,
   "metadata": {},
   "outputs": [
    {
     "data": {
      "text/plain": [
       "8"
      ]
     },
     "execution_count": 22,
     "metadata": {},
     "output_type": "execute_result"
    }
   ],
   "source": [
    "# evenly select sample_size number of genome sequences from each region\n",
    "from utility_functions import *\n",
    "\n",
    "from functions import *\n",
    "threshold=10000  \n",
    "sample_size=10000 \n",
    "\n",
    "df_filtered=filter_df(df_date,'region', threshold)\n",
    "df_even_=df_filtered.groupby(\"region\").apply (lambda x: x.sample(n=sample_size,random_state=1))\n",
    "df_even=df_even_.reset_index(drop=True)\n",
    "len(list(set(df_even['region'])))\n",
    "\n"
   ]
  },
  {
   "cell_type": "code",
   "execution_count": 23,
   "metadata": {},
   "outputs": [
    {
     "name": "stdout",
     "output_type": "stream",
     "text": [
      "5\n"
     ]
    },
    {
     "data": {
      "image/png": "[encoded data removed]",
      "text/plain": [
       "<Figure size 640x480 with 1 Axes>"
      ]
     },
     "metadata": {},
     "output_type": "display_data"
    }
   ],
   "source": [
    "sequences = df_even['sequence'].tolist()\n",
    "\n",
    "\n",
    "n_base_per_seq=[]\n",
    "n_base_per_seq=[len(set(seq)) for seq in sequences]\n",
    "plt.hist(n_base_per_seq)\n",
    "\n",
    "print(max(n_base_per_seq))"
   ]
  },
  {
   "cell_type": "code",
   "execution_count": null,
   "metadata": {},
   "outputs": [],
   "source": [
    "data=df_even\n",
    "target='region'\n",
    "print('2^15',2**15)\n",
    "\n",
    "#data_padded,base=padding(data,2**15) \n",
    "data_padded,base=padding(data) #default pad to max length\n",
    "\n"
   ]
  },
  {
   "cell_type": "code",
   "execution_count": null,
   "metadata": {},
   "outputs": [],
   "source": [
    "result_dict=defaultdict()\n",
    "\n",
    "X_train,y_train,X_test,y_test,X_validation,y_validation,\\\n",
    "one_hot_encoder_y=padded_encode(data_padded,target,base,train_size_=0.6,test_size_=0.2,split=True)\n",
    "\n",
    "n_class=len(list(set(list(data_padded['region']))))\n"
   ]
  }
 ],
 "metadata": {
  "kernelspec": {
   "display_name": "Python 3 (ipykernel)",
   "language": "python",
   "name": "python3"
  },
  "language_info": {
   "codemirror_mode": {
    "name": "ipython",
    "version": 3
   },
   "file_extension": ".py",
   "mimetype": "text/x-python",
   "name": "python",
   "nbconvert_exporter": "python",
   "pygments_lexer": "ipython3",
   "version": "3.8.16"
  }
 },
 "nbformat": 4,
 "nbformat_minor": 4
}
